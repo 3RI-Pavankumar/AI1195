{
 "cells": [
  {
   "cell_type": "code",
   "execution_count": 22,
   "id": "5578da46-8d8b-4bd6-8524-580074a02706",
   "metadata": {},
   "outputs": [],
   "source": [
    "import numpy as np\n",
    "import pandas as pd\n",
    "import matplotlib.pyplot as plt\n",
    "import tensorflow as tf\n",
    "from tensorflow.keras.preprocessing.text import Tokenizer\n",
    "from tensorflow.keras.preprocessing import sequence\n",
    "from tensorflow.keras.models import Sequential\n",
    "from tensorflow.keras.layers import Embedding, SimpleRNN, Dense"
   ]
  },
  {
   "cell_type": "code",
   "execution_count": 3,
   "id": "1e98398d-e1dd-4611-bb5d-09f5a40aefc0",
   "metadata": {},
   "outputs": [],
   "source": [
    "df = pd.read_excel(\"movie_reviews.xlsx\")"
   ]
  },
  {
   "cell_type": "code",
   "execution_count": 4,
   "id": "47a50e08-748f-4d97-9c98-6a6a4e082bda",
   "metadata": {
    "scrolled": true
   },
   "outputs": [
    {
     "data": {
      "text/html": [
       "<div>\n",
       "<style scoped>\n",
       "    .dataframe tbody tr th:only-of-type {\n",
       "        vertical-align: middle;\n",
       "    }\n",
       "\n",
       "    .dataframe tbody tr th {\n",
       "        vertical-align: top;\n",
       "    }\n",
       "\n",
       "    .dataframe thead th {\n",
       "        text-align: right;\n",
       "    }\n",
       "</style>\n",
       "<table border=\"1\" class=\"dataframe\">\n",
       "  <thead>\n",
       "    <tr style=\"text-align: right;\">\n",
       "      <th></th>\n",
       "      <th>Review</th>\n",
       "      <th>Sentiment</th>\n",
       "    </tr>\n",
       "  </thead>\n",
       "  <tbody>\n",
       "    <tr>\n",
       "      <th>0</th>\n",
       "      <td>Absolutely loved this movie! The storyline was...</td>\n",
       "      <td>Positive</td>\n",
       "    </tr>\n",
       "    <tr>\n",
       "      <th>1</th>\n",
       "      <td>The actors delivered incredible performances; ...</td>\n",
       "      <td>Positive</td>\n",
       "    </tr>\n",
       "    <tr>\n",
       "      <th>2</th>\n",
       "      <td>A fantastic blend of humor and action—kept me ...</td>\n",
       "      <td>Positive</td>\n",
       "    </tr>\n",
       "    <tr>\n",
       "      <th>3</th>\n",
       "      <td>Beautiful cinematography and an engaging plot....</td>\n",
       "      <td>Positive</td>\n",
       "    </tr>\n",
       "    <tr>\n",
       "      <th>4</th>\n",
       "      <td>An outstanding film with a heartwarming messag...</td>\n",
       "      <td>Positive</td>\n",
       "    </tr>\n",
       "  </tbody>\n",
       "</table>\n",
       "</div>"
      ],
      "text/plain": [
       "                                              Review Sentiment\n",
       "0  Absolutely loved this movie! The storyline was...  Positive\n",
       "1  The actors delivered incredible performances; ...  Positive\n",
       "2  A fantastic blend of humor and action—kept me ...  Positive\n",
       "3  Beautiful cinematography and an engaging plot....  Positive\n",
       "4  An outstanding film with a heartwarming messag...  Positive"
      ]
     },
     "execution_count": 4,
     "metadata": {},
     "output_type": "execute_result"
    }
   ],
   "source": [
    "df.head()"
   ]
  },
  {
   "cell_type": "code",
   "execution_count": 6,
   "id": "297e3a94-938f-42fe-9322-7bf050dc561a",
   "metadata": {
    "scrolled": true
   },
   "outputs": [
    {
     "data": {
      "text/plain": [
       "['Absolutely loved this movie! The storyline was captivating and emotional.',\n",
       " 'The actors delivered incredible performances; truly Oscar-worthy.',\n",
       " 'A fantastic blend of humor and action—kept me entertained throughout.',\n",
       " 'Beautiful cinematography and an engaging plot. A must-watch!',\n",
       " 'An outstanding film with a heartwarming message. Highly recommend it!',\n",
       " 'The twists in the plot were mind-blowing. Never saw it coming!',\n",
       " 'Brilliant direction and stellar performances by the cast.',\n",
       " 'A delightful film full of charm and meaningful storytelling.',\n",
       " 'This movie is a masterpiece—art at its finest!',\n",
       " 'An unforgettable experience with great music and visuals.',\n",
       " 'So funny and touching at the same time. I laughed and cried!',\n",
       " 'The chemistry between the leads was just perfect.',\n",
       " 'Packed with action and great dialogues. Loved every moment of it.',\n",
       " 'A great adaptation of the book; exceeded my expectations!',\n",
       " 'Incredible movie with an inspiring storyline.',\n",
       " 'The emotional depth of this film was truly remarkable.',\n",
       " 'An uplifting story with fantastic character development.',\n",
       " 'Superb storytelling that kept me hooked till the end.',\n",
       " 'A beautifully crafted film with a lot of heart.',\n",
       " 'This movie truly exceeded all my expectations!',\n",
       " 'The script was flawless, and the direction was spot-on.',\n",
       " 'A wonderful family movie that everyone can enjoy!',\n",
       " 'The soundtrack was phenomenal and fit the movie perfectly.',\n",
       " 'A thoroughly enjoyable film that I’d watch again.',\n",
       " 'A cinematic triumph in every sense of the word.',\n",
       " \"This was a complete waste of time. Couldn't sit through it.\",\n",
       " 'The storyline was dull and predictable. Very disappointing.',\n",
       " 'Poorly written characters and a boring plot. Avoid this one.',\n",
       " 'The acting was wooden and lacked any real emotion.',\n",
       " 'I can’t believe I spent money on this terrible movie.',\n",
       " 'The jokes were flat, and the humor felt forced.',\n",
       " \"The pacing was all over the place—couldn't keep up.\",\n",
       " 'Terrible CGI and unimpressive visuals throughout.',\n",
       " 'The film lacked any real depth or substance. It was so shallow.',\n",
       " 'The ending was rushed and completely unsatisfying.',\n",
       " 'This movie was overly long and painfully boring.',\n",
       " 'Not even the great actors could save this disaster of a film.',\n",
       " 'It felt like they were trying too hard to be funny, but it just failed.',\n",
       " 'A disappointing sequel that shouldn’t have been made.',\n",
       " 'The direction was sloppy, and the editing was a mess.',\n",
       " 'This film was full of clichés and offered nothing new.',\n",
       " 'I regret watching this; it was a total letdown.',\n",
       " 'Horribly predictable and full of plot holes.',\n",
       " 'There was zero chemistry between the lead actors.',\n",
       " 'A pretentious and overly drawn-out film with no payoff.',\n",
       " 'The dialogue was cringy and unnatural.',\n",
       " 'A lackluster movie that felt like a chore to get through.',\n",
       " 'The plot made no sense and left me confused and frustrated.',\n",
       " 'This movie had so much potential but failed miserably.']"
      ]
     },
     "execution_count": 6,
     "metadata": {},
     "output_type": "execute_result"
    }
   ],
   "source": [
    "reviews = df[\"Review\"].to_list()\n",
    "reviews"
   ]
  },
  {
   "cell_type": "code",
   "execution_count": 7,
   "id": "097ff7d6-b815-4359-be83-4c38ebcdb1ee",
   "metadata": {
    "scrolled": true
   },
   "outputs": [
    {
     "data": {
      "text/plain": [
       "['Positive',\n",
       " 'Positive',\n",
       " 'Positive',\n",
       " 'Positive',\n",
       " 'Positive',\n",
       " 'Positive',\n",
       " 'Positive',\n",
       " 'Positive',\n",
       " 'Positive',\n",
       " 'Positive',\n",
       " 'Positive',\n",
       " 'Positive',\n",
       " 'Positive',\n",
       " 'Positive',\n",
       " 'Positive',\n",
       " 'Positive',\n",
       " 'Positive',\n",
       " 'Positive',\n",
       " 'Positive',\n",
       " 'Positive',\n",
       " 'Positive',\n",
       " 'Positive',\n",
       " 'Positive',\n",
       " 'Positive',\n",
       " 'Positive',\n",
       " 'Negative',\n",
       " 'Negative',\n",
       " 'Negative',\n",
       " 'Negative',\n",
       " 'Negative',\n",
       " 'Negative',\n",
       " 'Negative',\n",
       " 'Negative',\n",
       " 'Negative',\n",
       " 'Negative',\n",
       " 'Negative',\n",
       " 'Negative',\n",
       " 'Negative',\n",
       " 'Negative',\n",
       " 'Negative',\n",
       " 'Negative',\n",
       " 'Negative',\n",
       " 'Negative',\n",
       " 'Negative',\n",
       " 'Negative',\n",
       " 'Negative',\n",
       " 'Negative',\n",
       " 'Negative',\n",
       " 'Negative']"
      ]
     },
     "execution_count": 7,
     "metadata": {},
     "output_type": "execute_result"
    }
   ],
   "source": [
    "sentiment = df[\"Sentiment\"].tolist()\n",
    "sentiment"
   ]
  },
  {
   "cell_type": "code",
   "execution_count": 8,
   "id": "49ac06c2-1b15-4003-b342-da3eece6dcc8",
   "metadata": {},
   "outputs": [],
   "source": [
    "tokens = Tokenizer()"
   ]
  },
  {
   "cell_type": "code",
   "execution_count": 9,
   "id": "0896d50c-9fc9-4d59-8424-bffe11152708",
   "metadata": {
    "scrolled": true
   },
   "outputs": [
    {
     "data": {
      "text/plain": [
       "[[65, 25, 5, 7, 1, 16, 4, 66, 2, 26],\n",
       " [1, 17, 67, 27, 28, 18, 68, 69],\n",
       " [3, 29, 70, 6, 30, 2, 71, 19, 72, 31],\n",
       " [73, 74, 2, 11, 75, 12, 3, 76, 32],\n",
       " [11, 77, 8, 10, 3, 78, 79, 80, 81, 9],\n",
       " [1, 82, 33, 1, 12, 20, 83, 84, 85, 86, 9, 87],\n",
       " [88, 21, 2, 89, 28, 90, 1, 91],\n",
       " [3, 92, 8, 22, 6, 93, 2, 94, 34],\n",
       " [5, 7, 95, 3, 96, 35, 97, 98],\n",
       " [11, 99, 100, 10, 14, 101, 2, 36],\n",
       " [23, 37, 2, 102, 35, 1, 103, 38, 15, 104, 2, 105],\n",
       " [1, 39, 40, 1, 106, 4, 41, 107],\n",
       " [108, 10, 109, 2, 14, 110, 25, 42, 111, 6, 9],\n",
       " [3, 14, 112, 6, 1, 113, 43, 44, 45],\n",
       " [27, 7, 10, 11, 114, 16],\n",
       " [1, 26, 46, 6, 5, 8, 4, 18, 115],\n",
       " [11, 116, 117, 10, 29, 118, 119],\n",
       " [120, 34, 13, 121, 19, 122, 123, 1, 124],\n",
       " [3, 125, 126, 8, 10, 3, 127, 6, 128],\n",
       " [5, 7, 18, 43, 47, 44, 45],\n",
       " [1, 129, 4, 130, 2, 1, 21, 4, 131, 48],\n",
       " [3, 132, 133, 7, 13, 134, 135, 136],\n",
       " [1, 137, 4, 138, 2, 139, 1, 7, 140],\n",
       " [3, 141, 142, 8, 13, 143, 32, 144],\n",
       " [3, 145, 146, 33, 42, 49, 6, 1, 147],\n",
       " [5, 4, 3, 148, 149, 6, 38, 150, 151, 50, 9],\n",
       " [1, 16, 4, 152, 2, 51, 153, 52],\n",
       " [154, 155, 156, 2, 3, 53, 12, 157, 5, 158],\n",
       " [1, 159, 4, 160, 2, 54, 55, 56, 161],\n",
       " [15, 162, 163, 15, 164, 165, 48, 5, 57, 7],\n",
       " [1, 166, 20, 167, 2, 1, 30, 24, 168],\n",
       " [1, 169, 4, 47, 170, 1, 171, 172, 173],\n",
       " [57, 174, 2, 175, 36, 31],\n",
       " [1, 8, 54, 55, 56, 46, 176, 177, 9, 4, 23, 178],\n",
       " [1, 179, 4, 180, 2, 181, 182],\n",
       " [5, 7, 4, 58, 183, 2, 184, 53],\n",
       " [185, 186, 1, 14, 17, 187, 188, 5, 189, 6, 3, 8],\n",
       " [9, 24, 59, 190, 20, 191, 192, 193, 60, 194, 37, 61, 9, 41, 62],\n",
       " [3, 52, 195, 13, 196, 197, 198, 63],\n",
       " [1, 21, 4, 199, 2, 1, 200, 4, 3, 201],\n",
       " [5, 8, 4, 22, 6, 202, 2, 203, 204, 205],\n",
       " [15, 206, 207, 5, 9, 4, 3, 208, 209],\n",
       " [210, 51, 2, 22, 6, 12, 211],\n",
       " [212, 4, 213, 39, 40, 1, 214, 17],\n",
       " [3, 215, 2, 58, 216, 217, 8, 10, 64, 218],\n",
       " [1, 219, 4, 220, 2, 221],\n",
       " [3, 222, 7, 13, 24, 59, 3, 223, 60, 224, 50],\n",
       " [1, 12, 63, 64, 49, 2, 225, 19, 226, 2, 227],\n",
       " [5, 7, 228, 23, 229, 230, 61, 62, 231]]"
      ]
     },
     "execution_count": 9,
     "metadata": {},
     "output_type": "execute_result"
    }
   ],
   "source": [
    "tokens.fit_on_texts(reviews)\n",
    "seq = tokens.texts_to_sequences(reviews)\n",
    "seq"
   ]
  },
  {
   "cell_type": "code",
   "execution_count": 10,
   "id": "4ded8803-426a-4101-82e0-a31f3c84d296",
   "metadata": {},
   "outputs": [
    {
     "data": {
      "text/plain": [
       "232"
      ]
     },
     "execution_count": 10,
     "metadata": {},
     "output_type": "execute_result"
    }
   ],
   "source": [
    "vocab_size = len(tokens.word_index)+1\n",
    "vocab_size"
   ]
  },
  {
   "cell_type": "code",
   "execution_count": 11,
   "id": "effe4edd-1785-414d-8e3b-ac466ddf3335",
   "metadata": {},
   "outputs": [
    {
     "data": {
      "text/plain": [
       "{'the': 1,\n",
       " 'and': 2,\n",
       " 'a': 3,\n",
       " 'was': 4,\n",
       " 'this': 5,\n",
       " 'of': 6,\n",
       " 'movie': 7,\n",
       " 'film': 8,\n",
       " 'it': 9,\n",
       " 'with': 10,\n",
       " 'an': 11,\n",
       " 'plot': 12,\n",
       " 'that': 13,\n",
       " 'great': 14,\n",
       " 'i': 15,\n",
       " 'storyline': 16,\n",
       " 'actors': 17,\n",
       " 'truly': 18,\n",
       " 'me': 19,\n",
       " 'were': 20,\n",
       " 'direction': 21,\n",
       " 'full': 22,\n",
       " 'so': 23,\n",
       " 'felt': 24,\n",
       " 'loved': 25,\n",
       " 'emotional': 26,\n",
       " 'incredible': 27,\n",
       " 'performances': 28,\n",
       " 'fantastic': 29,\n",
       " 'humor': 30,\n",
       " 'throughout': 31,\n",
       " 'watch': 32,\n",
       " 'in': 33,\n",
       " 'storytelling': 34,\n",
       " 'at': 35,\n",
       " 'visuals': 36,\n",
       " 'funny': 37,\n",
       " 'time': 38,\n",
       " 'chemistry': 39,\n",
       " 'between': 40,\n",
       " 'just': 41,\n",
       " 'every': 42,\n",
       " 'exceeded': 43,\n",
       " 'my': 44,\n",
       " 'expectations': 45,\n",
       " 'depth': 46,\n",
       " 'all': 47,\n",
       " 'on': 48,\n",
       " 'sense': 49,\n",
       " 'through': 50,\n",
       " 'predictable': 51,\n",
       " 'disappointing': 52,\n",
       " 'boring': 53,\n",
       " 'lacked': 54,\n",
       " 'any': 55,\n",
       " 'real': 56,\n",
       " 'terrible': 57,\n",
       " 'overly': 58,\n",
       " 'like': 59,\n",
       " 'to': 60,\n",
       " 'but': 61,\n",
       " 'failed': 62,\n",
       " 'made': 63,\n",
       " 'no': 64,\n",
       " 'absolutely': 65,\n",
       " 'captivating': 66,\n",
       " 'delivered': 67,\n",
       " 'oscar': 68,\n",
       " 'worthy': 69,\n",
       " 'blend': 70,\n",
       " 'action—kept': 71,\n",
       " 'entertained': 72,\n",
       " 'beautiful': 73,\n",
       " 'cinematography': 74,\n",
       " 'engaging': 75,\n",
       " 'must': 76,\n",
       " 'outstanding': 77,\n",
       " 'heartwarming': 78,\n",
       " 'message': 79,\n",
       " 'highly': 80,\n",
       " 'recommend': 81,\n",
       " 'twists': 82,\n",
       " 'mind': 83,\n",
       " 'blowing': 84,\n",
       " 'never': 85,\n",
       " 'saw': 86,\n",
       " 'coming': 87,\n",
       " 'brilliant': 88,\n",
       " 'stellar': 89,\n",
       " 'by': 90,\n",
       " 'cast': 91,\n",
       " 'delightful': 92,\n",
       " 'charm': 93,\n",
       " 'meaningful': 94,\n",
       " 'is': 95,\n",
       " 'masterpiece—art': 96,\n",
       " 'its': 97,\n",
       " 'finest': 98,\n",
       " 'unforgettable': 99,\n",
       " 'experience': 100,\n",
       " 'music': 101,\n",
       " 'touching': 102,\n",
       " 'same': 103,\n",
       " 'laughed': 104,\n",
       " 'cried': 105,\n",
       " 'leads': 106,\n",
       " 'perfect': 107,\n",
       " 'packed': 108,\n",
       " 'action': 109,\n",
       " 'dialogues': 110,\n",
       " 'moment': 111,\n",
       " 'adaptation': 112,\n",
       " 'book': 113,\n",
       " 'inspiring': 114,\n",
       " 'remarkable': 115,\n",
       " 'uplifting': 116,\n",
       " 'story': 117,\n",
       " 'character': 118,\n",
       " 'development': 119,\n",
       " 'superb': 120,\n",
       " 'kept': 121,\n",
       " 'hooked': 122,\n",
       " 'till': 123,\n",
       " 'end': 124,\n",
       " 'beautifully': 125,\n",
       " 'crafted': 126,\n",
       " 'lot': 127,\n",
       " 'heart': 128,\n",
       " 'script': 129,\n",
       " 'flawless': 130,\n",
       " 'spot': 131,\n",
       " 'wonderful': 132,\n",
       " 'family': 133,\n",
       " 'everyone': 134,\n",
       " 'can': 135,\n",
       " 'enjoy': 136,\n",
       " 'soundtrack': 137,\n",
       " 'phenomenal': 138,\n",
       " 'fit': 139,\n",
       " 'perfectly': 140,\n",
       " 'thoroughly': 141,\n",
       " 'enjoyable': 142,\n",
       " 'i’d': 143,\n",
       " 'again': 144,\n",
       " 'cinematic': 145,\n",
       " 'triumph': 146,\n",
       " 'word': 147,\n",
       " 'complete': 148,\n",
       " 'waste': 149,\n",
       " \"couldn't\": 150,\n",
       " 'sit': 151,\n",
       " 'dull': 152,\n",
       " 'very': 153,\n",
       " 'poorly': 154,\n",
       " 'written': 155,\n",
       " 'characters': 156,\n",
       " 'avoid': 157,\n",
       " 'one': 158,\n",
       " 'acting': 159,\n",
       " 'wooden': 160,\n",
       " 'emotion': 161,\n",
       " 'can’t': 162,\n",
       " 'believe': 163,\n",
       " 'spent': 164,\n",
       " 'money': 165,\n",
       " 'jokes': 166,\n",
       " 'flat': 167,\n",
       " 'forced': 168,\n",
       " 'pacing': 169,\n",
       " 'over': 170,\n",
       " \"place—couldn't\": 171,\n",
       " 'keep': 172,\n",
       " 'up': 173,\n",
       " 'cgi': 174,\n",
       " 'unimpressive': 175,\n",
       " 'or': 176,\n",
       " 'substance': 177,\n",
       " 'shallow': 178,\n",
       " 'ending': 179,\n",
       " 'rushed': 180,\n",
       " 'completely': 181,\n",
       " 'unsatisfying': 182,\n",
       " 'long': 183,\n",
       " 'painfully': 184,\n",
       " 'not': 185,\n",
       " 'even': 186,\n",
       " 'could': 187,\n",
       " 'save': 188,\n",
       " 'disaster': 189,\n",
       " 'they': 190,\n",
       " 'trying': 191,\n",
       " 'too': 192,\n",
       " 'hard': 193,\n",
       " 'be': 194,\n",
       " 'sequel': 195,\n",
       " 'shouldn’t': 196,\n",
       " 'have': 197,\n",
       " 'been': 198,\n",
       " 'sloppy': 199,\n",
       " 'editing': 200,\n",
       " 'mess': 201,\n",
       " 'clichés': 202,\n",
       " 'offered': 203,\n",
       " 'nothing': 204,\n",
       " 'new': 205,\n",
       " 'regret': 206,\n",
       " 'watching': 207,\n",
       " 'total': 208,\n",
       " 'letdown': 209,\n",
       " 'horribly': 210,\n",
       " 'holes': 211,\n",
       " 'there': 212,\n",
       " 'zero': 213,\n",
       " 'lead': 214,\n",
       " 'pretentious': 215,\n",
       " 'drawn': 216,\n",
       " 'out': 217,\n",
       " 'payoff': 218,\n",
       " 'dialogue': 219,\n",
       " 'cringy': 220,\n",
       " 'unnatural': 221,\n",
       " 'lackluster': 222,\n",
       " 'chore': 223,\n",
       " 'get': 224,\n",
       " 'left': 225,\n",
       " 'confused': 226,\n",
       " 'frustrated': 227,\n",
       " 'had': 228,\n",
       " 'much': 229,\n",
       " 'potential': 230,\n",
       " 'miserably': 231}"
      ]
     },
     "execution_count": 11,
     "metadata": {},
     "output_type": "execute_result"
    }
   ],
   "source": [
    "tokens.word_index"
   ]
  },
  {
   "cell_type": "code",
   "execution_count": 12,
   "id": "5f8103ff-c00b-4452-ba37-2bb9063f225d",
   "metadata": {},
   "outputs": [
    {
     "data": {
      "text/plain": [
       "15"
      ]
     },
     "execution_count": 12,
     "metadata": {},
     "output_type": "execute_result"
    }
   ],
   "source": [
    "max_len = max([len(s) for s in seq])\n",
    "max_len"
   ]
  },
  {
   "cell_type": "code",
   "execution_count": 13,
   "id": "b7daef11-852e-4813-a070-880b6dd31f9f",
   "metadata": {},
   "outputs": [
    {
     "data": {
      "text/plain": [
       "array([[ 65,  25,   5,   7,   1,  16,   4,  66,   2,  26,   0,   0,   0,\n",
       "          0,   0],\n",
       "       [  1,  17,  67,  27,  28,  18,  68,  69,   0,   0,   0,   0,   0,\n",
       "          0,   0],\n",
       "       [  3,  29,  70,   6,  30,   2,  71,  19,  72,  31,   0,   0,   0,\n",
       "          0,   0],\n",
       "       [ 73,  74,   2,  11,  75,  12,   3,  76,  32,   0,   0,   0,   0,\n",
       "          0,   0],\n",
       "       [ 11,  77,   8,  10,   3,  78,  79,  80,  81,   9,   0,   0,   0,\n",
       "          0,   0],\n",
       "       [  1,  82,  33,   1,  12,  20,  83,  84,  85,  86,   9,  87,   0,\n",
       "          0,   0],\n",
       "       [ 88,  21,   2,  89,  28,  90,   1,  91,   0,   0,   0,   0,   0,\n",
       "          0,   0],\n",
       "       [  3,  92,   8,  22,   6,  93,   2,  94,  34,   0,   0,   0,   0,\n",
       "          0,   0],\n",
       "       [  5,   7,  95,   3,  96,  35,  97,  98,   0,   0,   0,   0,   0,\n",
       "          0,   0],\n",
       "       [ 11,  99, 100,  10,  14, 101,   2,  36,   0,   0,   0,   0,   0,\n",
       "          0,   0],\n",
       "       [ 23,  37,   2, 102,  35,   1, 103,  38,  15, 104,   2, 105,   0,\n",
       "          0,   0],\n",
       "       [  1,  39,  40,   1, 106,   4,  41, 107,   0,   0,   0,   0,   0,\n",
       "          0,   0],\n",
       "       [108,  10, 109,   2,  14, 110,  25,  42, 111,   6,   9,   0,   0,\n",
       "          0,   0],\n",
       "       [  3,  14, 112,   6,   1, 113,  43,  44,  45,   0,   0,   0,   0,\n",
       "          0,   0],\n",
       "       [ 27,   7,  10,  11, 114,  16,   0,   0,   0,   0,   0,   0,   0,\n",
       "          0,   0],\n",
       "       [  1,  26,  46,   6,   5,   8,   4,  18, 115,   0,   0,   0,   0,\n",
       "          0,   0],\n",
       "       [ 11, 116, 117,  10,  29, 118, 119,   0,   0,   0,   0,   0,   0,\n",
       "          0,   0],\n",
       "       [120,  34,  13, 121,  19, 122, 123,   1, 124,   0,   0,   0,   0,\n",
       "          0,   0],\n",
       "       [  3, 125, 126,   8,  10,   3, 127,   6, 128,   0,   0,   0,   0,\n",
       "          0,   0],\n",
       "       [  5,   7,  18,  43,  47,  44,  45,   0,   0,   0,   0,   0,   0,\n",
       "          0,   0],\n",
       "       [  1, 129,   4, 130,   2,   1,  21,   4, 131,  48,   0,   0,   0,\n",
       "          0,   0],\n",
       "       [  3, 132, 133,   7,  13, 134, 135, 136,   0,   0,   0,   0,   0,\n",
       "          0,   0],\n",
       "       [  1, 137,   4, 138,   2, 139,   1,   7, 140,   0,   0,   0,   0,\n",
       "          0,   0],\n",
       "       [  3, 141, 142,   8,  13, 143,  32, 144,   0,   0,   0,   0,   0,\n",
       "          0,   0],\n",
       "       [  3, 145, 146,  33,  42,  49,   6,   1, 147,   0,   0,   0,   0,\n",
       "          0,   0],\n",
       "       [  5,   4,   3, 148, 149,   6,  38, 150, 151,  50,   9,   0,   0,\n",
       "          0,   0],\n",
       "       [  1,  16,   4, 152,   2,  51, 153,  52,   0,   0,   0,   0,   0,\n",
       "          0,   0],\n",
       "       [154, 155, 156,   2,   3,  53,  12, 157,   5, 158,   0,   0,   0,\n",
       "          0,   0],\n",
       "       [  1, 159,   4, 160,   2,  54,  55,  56, 161,   0,   0,   0,   0,\n",
       "          0,   0],\n",
       "       [ 15, 162, 163,  15, 164, 165,  48,   5,  57,   7,   0,   0,   0,\n",
       "          0,   0],\n",
       "       [  1, 166,  20, 167,   2,   1,  30,  24, 168,   0,   0,   0,   0,\n",
       "          0,   0],\n",
       "       [  1, 169,   4,  47, 170,   1, 171, 172, 173,   0,   0,   0,   0,\n",
       "          0,   0],\n",
       "       [ 57, 174,   2, 175,  36,  31,   0,   0,   0,   0,   0,   0,   0,\n",
       "          0,   0],\n",
       "       [  1,   8,  54,  55,  56,  46, 176, 177,   9,   4,  23, 178,   0,\n",
       "          0,   0],\n",
       "       [  1, 179,   4, 180,   2, 181, 182,   0,   0,   0,   0,   0,   0,\n",
       "          0,   0],\n",
       "       [  5,   7,   4,  58, 183,   2, 184,  53,   0,   0,   0,   0,   0,\n",
       "          0,   0],\n",
       "       [185, 186,   1,  14,  17, 187, 188,   5, 189,   6,   3,   8,   0,\n",
       "          0,   0],\n",
       "       [  9,  24,  59, 190,  20, 191, 192, 193,  60, 194,  37,  61,   9,\n",
       "         41,  62],\n",
       "       [  3,  52, 195,  13, 196, 197, 198,  63,   0,   0,   0,   0,   0,\n",
       "          0,   0],\n",
       "       [  1,  21,   4, 199,   2,   1, 200,   4,   3, 201,   0,   0,   0,\n",
       "          0,   0],\n",
       "       [  5,   8,   4,  22,   6, 202,   2, 203, 204, 205,   0,   0,   0,\n",
       "          0,   0],\n",
       "       [ 15, 206, 207,   5,   9,   4,   3, 208, 209,   0,   0,   0,   0,\n",
       "          0,   0],\n",
       "       [210,  51,   2,  22,   6,  12, 211,   0,   0,   0,   0,   0,   0,\n",
       "          0,   0],\n",
       "       [212,   4, 213,  39,  40,   1, 214,  17,   0,   0,   0,   0,   0,\n",
       "          0,   0],\n",
       "       [  3, 215,   2,  58, 216, 217,   8,  10,  64, 218,   0,   0,   0,\n",
       "          0,   0],\n",
       "       [  1, 219,   4, 220,   2, 221,   0,   0,   0,   0,   0,   0,   0,\n",
       "          0,   0],\n",
       "       [  3, 222,   7,  13,  24,  59,   3, 223,  60, 224,  50,   0,   0,\n",
       "          0,   0],\n",
       "       [  1,  12,  63,  64,  49,   2, 225,  19, 226,   2, 227,   0,   0,\n",
       "          0,   0],\n",
       "       [  5,   7, 228,  23, 229, 230,  61,  62, 231,   0,   0,   0,   0,\n",
       "          0,   0]])"
      ]
     },
     "execution_count": 13,
     "metadata": {},
     "output_type": "execute_result"
    }
   ],
   "source": [
    "padded_seq = sequence.pad_sequences(seq, maxlen=max_len, padding=\"post\")\n",
    "padded_seq"
   ]
  },
  {
   "cell_type": "code",
   "execution_count": 15,
   "id": "279aa8dc-6db5-4969-878f-ee8d8918ab6c",
   "metadata": {},
   "outputs": [
    {
     "data": {
      "text/plain": [
       "array([1, 1, 1, 1, 1, 1, 1, 1, 1, 1, 1, 1, 1, 1, 1, 1, 1, 1, 1, 1, 1, 1,\n",
       "       1, 1, 1, 0, 0, 0, 0, 0, 0, 0, 0, 0, 0, 0, 0, 0, 0, 0, 0, 0, 0, 0,\n",
       "       0, 0, 0, 0, 0])"
      ]
     },
     "execution_count": 15,
     "metadata": {},
     "output_type": "execute_result"
    }
   ],
   "source": [
    "sent_index = np.array([1 if sent == \"Positive\" else 0 for sent in sentiment])\n",
    "sent_index"
   ]
  },
  {
   "cell_type": "code",
   "execution_count": 17,
   "id": "93ad71c8-3434-45f3-a8a9-7d04b18e237e",
   "metadata": {},
   "outputs": [],
   "source": [
    "model = Sequential([\n",
    "    Embedding(vocab_size, 32, input_length = max_len),\n",
    "    SimpleRNN(32),\n",
    "    Dense(1, activation=\"sigmoid\")\n",
    "])"
   ]
  },
  {
   "cell_type": "code",
   "execution_count": 19,
   "id": "89fb7bc8-ea83-402d-84c5-c276caa09d1c",
   "metadata": {},
   "outputs": [],
   "source": [
    "model.compile(optimizer=\"adam\", loss=\"binary_crossentropy\", metrics=[\"accuracy\"])"
   ]
  },
  {
   "cell_type": "code",
   "execution_count": 20,
   "id": "c324084f-b97a-42d7-92c5-1476960cfd3c",
   "metadata": {
    "scrolled": true
   },
   "outputs": [
    {
     "name": "stdout",
     "output_type": "stream",
     "text": [
      "Epoch 1/30\n",
      "WARNING:tensorflow:From C:\\Users\\Soft\\AppData\\Local\\Programs\\Python\\Python311\\Lib\\site-packages\\keras\\src\\utils\\tf_utils.py:492: The name tf.ragged.RaggedTensorValue is deprecated. Please use tf.compat.v1.ragged.RaggedTensorValue instead.\n",
      "\n",
      "WARNING:tensorflow:From C:\\Users\\Soft\\AppData\\Local\\Programs\\Python\\Python311\\Lib\\site-packages\\keras\\src\\engine\\base_layer_utils.py:384: The name tf.executing_eagerly_outside_functions is deprecated. Please use tf.compat.v1.executing_eagerly_outside_functions instead.\n",
      "\n",
      "2/2 [==============================] - 2s 12ms/step - loss: 0.6915 - accuracy: 0.4898\n",
      "Epoch 2/30\n",
      "2/2 [==============================] - 0s 9ms/step - loss: 0.6542 - accuracy: 0.6531\n",
      "Epoch 3/30\n",
      "2/2 [==============================] - 0s 12ms/step - loss: 0.6167 - accuracy: 0.8571\n",
      "Epoch 4/30\n",
      "2/2 [==============================] - 0s 13ms/step - loss: 0.5747 - accuracy: 0.9184\n",
      "Epoch 5/30\n",
      "2/2 [==============================] - 0s 17ms/step - loss: 0.5265 - accuracy: 0.9184\n",
      "Epoch 6/30\n",
      "2/2 [==============================] - 0s 10ms/step - loss: 0.4696 - accuracy: 0.9184\n",
      "Epoch 7/30\n",
      "2/2 [==============================] - 0s 16ms/step - loss: 0.4033 - accuracy: 0.9592\n",
      "Epoch 8/30\n",
      "2/2 [==============================] - 0s 11ms/step - loss: 0.3323 - accuracy: 0.9592\n",
      "Epoch 9/30\n",
      "2/2 [==============================] - 0s 11ms/step - loss: 0.2619 - accuracy: 0.9592\n",
      "Epoch 10/30\n",
      "2/2 [==============================] - 0s 13ms/step - loss: 0.1998 - accuracy: 0.9592\n",
      "Epoch 11/30\n",
      "2/2 [==============================] - 0s 10ms/step - loss: 0.1445 - accuracy: 0.9796\n",
      "Epoch 12/30\n",
      "2/2 [==============================] - 0s 10ms/step - loss: 0.1035 - accuracy: 1.0000\n",
      "Epoch 13/30\n",
      "2/2 [==============================] - 0s 10ms/step - loss: 0.0712 - accuracy: 1.0000\n",
      "Epoch 14/30\n",
      "2/2 [==============================] - 0s 14ms/step - loss: 0.0503 - accuracy: 1.0000\n",
      "Epoch 15/30\n",
      "2/2 [==============================] - 0s 10ms/step - loss: 0.0385 - accuracy: 1.0000\n",
      "Epoch 16/30\n",
      "2/2 [==============================] - 0s 15ms/step - loss: 0.0299 - accuracy: 1.0000\n",
      "Epoch 17/30\n",
      "2/2 [==============================] - 0s 13ms/step - loss: 0.0232 - accuracy: 1.0000\n",
      "Epoch 18/30\n",
      "2/2 [==============================] - 0s 41ms/step - loss: 0.0194 - accuracy: 1.0000\n",
      "Epoch 19/30\n",
      "2/2 [==============================] - 0s 14ms/step - loss: 0.0164 - accuracy: 1.0000\n",
      "Epoch 20/30\n",
      "2/2 [==============================] - 0s 10ms/step - loss: 0.0142 - accuracy: 1.0000\n",
      "Epoch 21/30\n",
      "2/2 [==============================] - 0s 10ms/step - loss: 0.0125 - accuracy: 1.0000\n",
      "Epoch 22/30\n",
      "2/2 [==============================] - 0s 9ms/step - loss: 0.0112 - accuracy: 1.0000\n",
      "Epoch 23/30\n",
      "2/2 [==============================] - 0s 7ms/step - loss: 0.0101 - accuracy: 1.0000\n",
      "Epoch 24/30\n",
      "2/2 [==============================] - 0s 11ms/step - loss: 0.0091 - accuracy: 1.0000\n",
      "Epoch 25/30\n",
      "2/2 [==============================] - 0s 14ms/step - loss: 0.0083 - accuracy: 1.0000\n",
      "Epoch 26/30\n",
      "2/2 [==============================] - 0s 12ms/step - loss: 0.0076 - accuracy: 1.0000\n",
      "Epoch 27/30\n",
      "2/2 [==============================] - 0s 9ms/step - loss: 0.0071 - accuracy: 1.0000\n",
      "Epoch 28/30\n",
      "2/2 [==============================] - 0s 8ms/step - loss: 0.0066 - accuracy: 1.0000\n",
      "Epoch 29/30\n",
      "2/2 [==============================] - 0s 10ms/step - loss: 0.0062 - accuracy: 1.0000\n",
      "Epoch 30/30\n",
      "2/2 [==============================] - 0s 11ms/step - loss: 0.0059 - accuracy: 1.0000\n"
     ]
    },
    {
     "data": {
      "text/plain": [
       "<keras.src.callbacks.History at 0x1f79fb62210>"
      ]
     },
     "execution_count": 20,
     "metadata": {},
     "output_type": "execute_result"
    }
   ],
   "source": [
    "model.fit(padded_seq, sent_index, epochs=30, verbose=True)"
   ]
  },
  {
   "cell_type": "code",
   "execution_count": 23,
   "id": "834684e9-d42f-4dff-b24d-36c7072624b6",
   "metadata": {
    "scrolled": true
   },
   "outputs": [
    {
     "data": {
      "image/png": "[encoded data removed]",
      "text/plain": [
       "<Figure size 1200x400 with 1 Axes>"
      ]
     },
     "metadata": {},
     "output_type": "display_data"
    }
   ],
   "source": [
    "plt.figure(figsize=(12, 4))\n",
    "plt.plot(model.history.history[\"loss\"], label=\"Loss\")\n",
    "plt.plot(model.history.history[\"accuracy\"], label=\"Accuracy\")\n",
    "plt.title(\"Loss and Accuracy Visualization\")\n",
    "plt.legend()\n",
    "plt.xlabel(\"Epochs\")\n",
    "plt.ylabel(\"Loss / Accuracy\")\n",
    "plt.show()"
   ]
  },
  {
   "cell_type": "code",
   "execution_count": 29,
   "id": "11a6c484-a7d6-4199-9bd5-03429354b41d",
   "metadata": {},
   "outputs": [],
   "source": [
    "def sentiment_analyzer(text):\n",
    "    text_seq = tokens.texts_to_sequences(text)\n",
    "    padd_text_seq = sequence.pad_sequences(text_seq, maxlen=max_len, padding=\"post\")\n",
    "    pred = model.predict(padd_text_seq)\n",
    "    sentiment = \"Positive\" if pred >= 0.5 else \"Negative\"\n",
    "    return sentiment"
   ]
  },
  {
   "cell_type": "code",
   "execution_count": 33,
   "id": "c562c3b2-73c1-4374-988a-08a2a258fc02",
   "metadata": {},
   "outputs": [],
   "source": [
    "new_text = np.array([\"The movie is masterpiece, Recommended, Must watch!\"])"
   ]
  },
  {
   "cell_type": "code",
   "execution_count": 34,
   "id": "da75a630-36c0-45db-87a2-cc9651b83779",
   "metadata": {},
   "outputs": [
    {
     "name": "stdout",
     "output_type": "stream",
     "text": [
      "1/1 [==============================] - 0s 27ms/step\n"
     ]
    },
    {
     "data": {
      "text/plain": [
       "'Positive'"
      ]
     },
     "execution_count": 34,
     "metadata": {},
     "output_type": "execute_result"
    }
   ],
   "source": [
    "sentiment_analyzer(new_text)"
   ]
  },
  {
   "cell_type": "code",
   "execution_count": 35,
   "id": "4e08282b-527a-4347-82dd-65ecd3b2d068",
   "metadata": {},
   "outputs": [
    {
     "name": "stdout",
     "output_type": "stream",
     "text": [
      "1/1 [==============================] - 0s 32ms/step\n"
     ]
    },
    {
     "data": {
      "text/plain": [
       "'Positive'"
      ]
     },
     "execution_count": 35,
     "metadata": {},
     "output_type": "execute_result"
    }
   ],
   "source": [
    "sentiment_analyzer([\"Absolutely fantastic, the moview is great and cinematography is stunning\"])"
   ]
  },
  {
   "cell_type": "code",
   "execution_count": null,
   "id": "0511b05a-8dca-489f-97fb-a0a322fec312",
   "metadata": {},
   "outputs": [],
   "source": []
  }
 ],
 "metadata": {
  "kernelspec": {
   "display_name": "Python 3 (ipykernel)",
   "language": "python",
   "name": "python3"
  },
  "language_info": {
   "codemirror_mode": {
    "name": "ipython",
    "version": 3
   },
   "file_extension": ".py",
   "mimetype": "text/x-python",
   "name": "python",
   "nbconvert_exporter": "python",
   "pygments_lexer": "ipython3",
   "version": "3.11.7"
  },
  "widgets": {
   "application/vnd.jupyter.widget-state+json": {
    "state": {},
    "version_major": 2,
    "version_minor": 0
   }
  }
 },
 "nbformat": 4,
 "nbformat_minor": 5
}
