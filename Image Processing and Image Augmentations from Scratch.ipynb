{
 "cells": [
  {
   "cell_type": "code",
   "execution_count": 101,
   "id": "8cf4fa8b-96a2-45b8-9ea5-2efba68f8fde",
   "metadata": {},
   "outputs": [],
   "source": [
    "import numpy as np\n",
    "import cv2 as cv"
   ]
  },
  {
   "cell_type": "markdown",
   "id": "d58b467e-757f-4b31-8526-47db74a3769d",
   "metadata": {},
   "source": [
    "# Image Read"
   ]
  },
  {
   "cell_type": "code",
   "execution_count": 102,
   "id": "9d04d71c-ee1d-4121-8617-17d77c6bc7c6",
   "metadata": {},
   "outputs": [],
   "source": [
    "img = cv.imread(\"animal.jpg\")"
   ]
  },
  {
   "cell_type": "code",
   "execution_count": 103,
   "id": "85f1ab50-845b-4c39-b1c2-74cf7fd17698",
   "metadata": {
    "scrolled": true
   },
   "outputs": [
    {
     "data": {
      "text/plain": [
       "array([[[249, 236, 190],\n",
       "        [231, 180,   0],\n",
       "        [231, 180,   0],\n",
       "        ...,\n",
       "        [231, 180,   0],\n",
       "        [231, 180,   0],\n",
       "        [255, 255, 255]],\n",
       "\n",
       "       [[249, 236, 190],\n",
       "        [231, 180,   0],\n",
       "        [231, 180,   0],\n",
       "        ...,\n",
       "        [231, 180,   0],\n",
       "        [231, 180,   0],\n",
       "        [255, 255, 255]],\n",
       "\n",
       "       [[249, 236, 190],\n",
       "        [231, 180,   0],\n",
       "        [231, 180,   0],\n",
       "        ...,\n",
       "        [231, 180,   0],\n",
       "        [231, 180,   0],\n",
       "        [255, 255, 255]],\n",
       "\n",
       "       ...,\n",
       "\n",
       "       [[215, 239, 231],\n",
       "        [ 90, 190, 162],\n",
       "        [ 88, 190, 162],\n",
       "        ...,\n",
       "        [115, 211, 200],\n",
       "        [115, 212, 198],\n",
       "        [255, 255, 255]],\n",
       "\n",
       "       [[219, 243, 241],\n",
       "        [116, 213, 199],\n",
       "        [115, 212, 198],\n",
       "        ...,\n",
       "        [115, 212, 198],\n",
       "        [117, 212, 198],\n",
       "        [255, 255, 254]],\n",
       "\n",
       "       [[220, 246, 240],\n",
       "        [115, 211, 200],\n",
       "        [115, 212, 198],\n",
       "        ...,\n",
       "        [ 79, 183, 148],\n",
       "        [ 90, 189, 163],\n",
       "        [255, 255, 255]]], dtype=uint8)"
      ]
     },
     "execution_count": 103,
     "metadata": {},
     "output_type": "execute_result"
    }
   ],
   "source": [
    "img"
   ]
  },
  {
   "cell_type": "markdown",
   "id": "f7bd9fcb-67fe-4e5b-8530-df4a314cbfdb",
   "metadata": {},
   "source": [
    "# Image Show"
   ]
  },
  {
   "cell_type": "code",
   "execution_count": 104,
   "id": "052531ad-169a-4aef-aa9e-ba7a98376b1e",
   "metadata": {},
   "outputs": [],
   "source": [
    "cv.imshow(\"Original Image\", img)\n",
    "cv.waitKey(0)\n",
    "cv.destroyAllWindows()"
   ]
  },
  {
   "cell_type": "markdown",
   "id": "a9ab2db2-a536-47da-a2f2-554b0be81268",
   "metadata": {},
   "source": [
    "# Image Resize"
   ]
  },
  {
   "cell_type": "code",
   "execution_count": 105,
   "id": "830eecfc-88a6-4fd2-a462-ed36ecf6a5ad",
   "metadata": {},
   "outputs": [],
   "source": [
    "re_img = cv.resize(img, (600, 600))"
   ]
  },
  {
   "cell_type": "code",
   "execution_count": 106,
   "id": "00e2b06b-7811-4365-a3fc-01290d5a2a46",
   "metadata": {},
   "outputs": [],
   "source": [
    "cv.imwrite(r\"C:\\Users\\Soft\\Desktop\\Py\\AI 1195\\Augmented Images\\resized_img.jpg\", re_img)\n",
    "cv.imshow(\"Resized Image\", re_img)\n",
    "cv.waitKey(0)\n",
    "cv.destroyAllWindows()"
   ]
  },
  {
   "cell_type": "markdown",
   "id": "67c7bd9b-5e44-4f69-aab4-ea4599dc410a",
   "metadata": {},
   "source": [
    "# Image Color Channel"
   ]
  },
  {
   "cell_type": "code",
   "execution_count": 7,
   "id": "e1d85a21-fe68-4a81-8ab8-6138471f3f91",
   "metadata": {},
   "outputs": [],
   "source": [
    "red = re_img.copy()"
   ]
  },
  {
   "cell_type": "code",
   "execution_count": 8,
   "id": "fd74b0c7-6c4d-456c-9fed-535a8d20cdd6",
   "metadata": {},
   "outputs": [
    {
     "data": {
      "text/plain": [
       "(600, 600, 3)"
      ]
     },
     "execution_count": 8,
     "metadata": {},
     "output_type": "execute_result"
    }
   ],
   "source": [
    "red.shape"
   ]
  },
  {
   "cell_type": "code",
   "execution_count": 9,
   "id": "8c2d4ede-dcde-4049-8644-ff56cd965446",
   "metadata": {},
   "outputs": [],
   "source": [
    "red[:,:,[0, 1]] = 0"
   ]
  },
  {
   "cell_type": "code",
   "execution_count": 107,
   "id": "003f145c-55bc-4f05-a50e-fc7e46c34ae3",
   "metadata": {},
   "outputs": [],
   "source": [
    "cv.imwrite(r\"C:\\Users\\Soft\\Desktop\\Py\\AI 1195\\Augmented Images\\red_img.jpg\", red)\n",
    "cv.imshow(\"Red Image\", red)\n",
    "cv.waitKey(0)\n",
    "cv.destroyAllWindows()"
   ]
  },
  {
   "cell_type": "code",
   "execution_count": 11,
   "id": "1cd456fd-e66c-4304-ba93-a664e2201b77",
   "metadata": {},
   "outputs": [],
   "source": [
    "green = re_img.copy()"
   ]
  },
  {
   "cell_type": "code",
   "execution_count": 12,
   "id": "33d81bf1-5891-41aa-a008-9e4b940b5895",
   "metadata": {},
   "outputs": [],
   "source": [
    "green[:,:,[0, 2]] = 0"
   ]
  },
  {
   "cell_type": "code",
   "execution_count": 108,
   "id": "ea6c7e88-a1f3-42ea-a498-0a66284ad6a3",
   "metadata": {},
   "outputs": [],
   "source": [
    "cv.imwrite(r\"C:\\Users\\Soft\\Desktop\\Py\\AI 1195\\Augmented Images\\green_img.jpg\", green)\n",
    "cv.imshow(\"Green Image\", green)\n",
    "cv.waitKey(0)\n",
    "cv.destroyAllWindows()"
   ]
  },
  {
   "cell_type": "code",
   "execution_count": 14,
   "id": "3e385ce9-1a86-4487-9d38-738158b2a78c",
   "metadata": {},
   "outputs": [],
   "source": [
    "blue = re_img.copy()"
   ]
  },
  {
   "cell_type": "code",
   "execution_count": 15,
   "id": "025388b4-b724-4a2c-9d15-ae2142d2e1dd",
   "metadata": {},
   "outputs": [],
   "source": [
    "blue[:,:,[1, 2]] = 0"
   ]
  },
  {
   "cell_type": "code",
   "execution_count": 109,
   "id": "c6723d8e-c3f1-48a1-9ae9-2a52ee928b4e",
   "metadata": {},
   "outputs": [],
   "source": [
    "cv.imwrite(r\"C:\\Users\\Soft\\Desktop\\Py\\AI 1195\\Augmented Images\\blue_img.jpg\", blue)\n",
    "cv.imshow(\"Blue Image\", blue)\n",
    "cv.waitKey(0)\n",
    "cv.destroyAllWindows()"
   ]
  },
  {
   "cell_type": "code",
   "execution_count": 110,
   "id": "20439f48-4207-496d-8e79-af65d3918383",
   "metadata": {},
   "outputs": [],
   "source": [
    "cv.imwrite(r\"C:\\Users\\Soft\\Desktop\\Py\\AI 1195\\Augmented Images\\R_G_B_Addition.jpg\", (blue + green + red))\n",
    "cv.imshow(\"Addition of all Color Channel\", (blue + green + red))\n",
    "cv.waitKey(0)\n",
    "cv.destroyAllWindows()"
   ]
  },
  {
   "cell_type": "markdown",
   "id": "788f33ab-aacf-4022-bffb-b71e1ec4a95c",
   "metadata": {},
   "source": [
    "# Image color to grayscale"
   ]
  },
  {
   "cell_type": "code",
   "execution_count": 21,
   "id": "9efed056-7453-42cd-9878-ba9db9098567",
   "metadata": {},
   "outputs": [],
   "source": [
    "gray_img = cv.cvtColor(re_img, cv.COLOR_BGR2GRAY)"
   ]
  },
  {
   "cell_type": "code",
   "execution_count": 111,
   "id": "94b6f242-df7b-4bdd-86a8-58cce8d48181",
   "metadata": {},
   "outputs": [],
   "source": [
    "cv.imwrite(r\"C:\\Users\\Soft\\Desktop\\Py\\AI 1195\\Augmented Images\\gray_img.jpg\", gray_img)\n",
    "cv.imshow(\"Gray Image\", gray_img)\n",
    "cv.waitKey(0)\n",
    "cv.destroyAllWindows()"
   ]
  },
  {
   "cell_type": "markdown",
   "id": "eb1baca1-155c-476d-9bcb-ee0e63db762b",
   "metadata": {},
   "source": [
    "# Adding Blur to Image"
   ]
  },
  {
   "cell_type": "code",
   "execution_count": 31,
   "id": "c90d5f8e-a495-493d-83bb-14240aebcd00",
   "metadata": {},
   "outputs": [],
   "source": [
    "blur_img1 = cv.GaussianBlur(re_img, (3, 3), 2)\n",
    "blur_img2 = cv.GaussianBlur(re_img, (5, 5), 6)"
   ]
  },
  {
   "cell_type": "code",
   "execution_count": 33,
   "id": "9a6ce03e-c13f-46ae-9010-9a02f33e32e9",
   "metadata": {},
   "outputs": [],
   "source": [
    "two_img = np.hstack((blur_img1, blur_img2))"
   ]
  },
  {
   "cell_type": "code",
   "execution_count": 112,
   "id": "1794f5ec-bc72-4b1f-ae4f-475814b448b5",
   "metadata": {},
   "outputs": [],
   "source": [
    "cv.imwrite(r\"C:\\Users\\Soft\\Desktop\\Py\\AI 1195\\Augmented Images\\two_blur_img.jpg\", two_img)\n",
    "cv.imshow(\"Blur Images\", two_img)\n",
    "cv.waitKey(0)\n",
    "cv.destroyAllWindows()"
   ]
  },
  {
   "cell_type": "markdown",
   "id": "40b1f693-551b-4722-bbfe-60a5cc181b0e",
   "metadata": {},
   "source": [
    "# Edge Detection in Image"
   ]
  },
  {
   "cell_type": "code",
   "execution_count": 42,
   "id": "82fe1c2b-baad-44f0-9241-7931d3fa4114",
   "metadata": {},
   "outputs": [],
   "source": [
    "edges1 = cv.Canny(gray_img, 100, 200)\n",
    "edges2 = cv.Canny(gray_img, 50, 100)"
   ]
  },
  {
   "cell_type": "code",
   "execution_count": 43,
   "id": "5a069129-3e96-4bed-b658-951d1f113a7e",
   "metadata": {},
   "outputs": [],
   "source": [
    "two_edges = np.hstack((edges1, edges2))"
   ]
  },
  {
   "cell_type": "code",
   "execution_count": 113,
   "id": "e8769b6e-bae9-4fe4-b22c-fe22c340151c",
   "metadata": {},
   "outputs": [],
   "source": [
    "cv.imwrite(r\"C:\\Users\\Soft\\Desktop\\Py\\AI 1195\\Augmented Images\\two_edges_img.jpg\", two_edges)\n",
    "cv.imshow(\"Edges of Image\", two_edges)\n",
    "cv.waitKey(0)\n",
    "cv.destroyAllWindows()"
   ]
  },
  {
   "cell_type": "markdown",
   "id": "6a81d528-49e2-4221-a12f-311ac4b010ab",
   "metadata": {},
   "source": [
    "# Rotate Image"
   ]
  },
  {
   "cell_type": "code",
   "execution_count": 53,
   "id": "506fe398-425a-4c7d-ab7a-2357b550e844",
   "metadata": {},
   "outputs": [],
   "source": [
    "angle = 60\n",
    "rows, cols = re_img.shape[:2]   ### Rows means Width and Cols means Height\n",
    "center = (cols//2, rows//2)"
   ]
  },
  {
   "cell_type": "code",
   "execution_count": 54,
   "id": "cd49d657-0aa9-4ee0-bc23-510837d3df9c",
   "metadata": {},
   "outputs": [
    {
     "data": {
      "text/plain": [
       "(300, 300)"
      ]
     },
     "execution_count": 54,
     "metadata": {},
     "output_type": "execute_result"
    }
   ],
   "source": [
    "center"
   ]
  },
  {
   "cell_type": "code",
   "execution_count": 64,
   "id": "bed3a03f-86c8-4ed5-aeff-1b9dd947bf2d",
   "metadata": {},
   "outputs": [],
   "source": [
    "rotate_mat = cv.getRotationMatrix2D(center, angle, scale=0.7)"
   ]
  },
  {
   "cell_type": "code",
   "execution_count": 65,
   "id": "1d619d78-8c18-42ef-87d5-b6e87a229960",
   "metadata": {},
   "outputs": [],
   "source": [
    "rotate_img = cv.warpAffine(re_img, rotate_mat, (cols, rows))"
   ]
  },
  {
   "cell_type": "code",
   "execution_count": 114,
   "id": "b2df1c79-360f-4bc6-a4a6-42b3474ac741",
   "metadata": {},
   "outputs": [],
   "source": [
    "cv.imwrite(r\"C:\\Users\\Soft\\Desktop\\Py\\AI 1195\\Augmented Images\\rotated_img.jpg\", rotate_img)\n",
    "cv.imshow(\"Rotated Image\", rotate_img)\n",
    "cv.waitKey(0)\n",
    "cv.destroyAllWindows()"
   ]
  },
  {
   "cell_type": "markdown",
   "id": "22fcb9cb-3f05-49f5-a77b-8d82ed2caf28",
   "metadata": {},
   "source": [
    "# Flipping Image"
   ]
  },
  {
   "cell_type": "code",
   "execution_count": 67,
   "id": "f4d5a3f0-dc5f-4b38-9d07-c8d0ff56984c",
   "metadata": {},
   "outputs": [],
   "source": [
    "flip_vert = cv.flip(re_img, 0)\n",
    "flip_hori = cv.flip(re_img, 1)"
   ]
  },
  {
   "cell_type": "code",
   "execution_count": 68,
   "id": "1786bc29-8a99-48a5-bb1a-b791f547f015",
   "metadata": {},
   "outputs": [],
   "source": [
    "two_flip = np.hstack((flip_vert, flip_hori))"
   ]
  },
  {
   "cell_type": "code",
   "execution_count": 115,
   "id": "0b821ee9-7240-4ec1-964b-af931ce86365",
   "metadata": {},
   "outputs": [],
   "source": [
    "cv.imwrite(r\"C:\\Users\\Soft\\Desktop\\Py\\AI 1195\\Augmented Images\\two_flipped_img.jpg\", two_flip)\n",
    "cv.imshow(\"Flipped Images\", two_flip)\n",
    "cv.waitKey(0)\n",
    "cv.destroyAllWindows()"
   ]
  },
  {
   "cell_type": "markdown",
   "id": "b7063ead-f509-4729-a3bc-689a49023ea4",
   "metadata": {},
   "source": [
    "# Shearing the Image"
   ]
  },
  {
   "cell_type": "code",
   "execution_count": 96,
   "id": "4a5100ea-182a-428a-9f41-c9ebe745ac8c",
   "metadata": {},
   "outputs": [],
   "source": [
    "shear_factor = 0.3"
   ]
  },
  {
   "cell_type": "code",
   "execution_count": 97,
   "id": "a56ce97a-fb5e-418b-bda5-d41361cfce7a",
   "metadata": {},
   "outputs": [],
   "source": [
    "shear_mat = np.float32([[1, shear_factor, 0], [0, 1, 0]])"
   ]
  },
  {
   "cell_type": "code",
   "execution_count": 98,
   "id": "ccdac97f-baac-48dc-8da4-a99a51a79f18",
   "metadata": {},
   "outputs": [
    {
     "data": {
      "text/plain": [
       "array([[1. , 0.3, 0. ],\n",
       "       [0. , 1. , 0. ]], dtype=float32)"
      ]
     },
     "execution_count": 98,
     "metadata": {},
     "output_type": "execute_result"
    }
   ],
   "source": [
    "shear_mat"
   ]
  },
  {
   "cell_type": "code",
   "execution_count": 99,
   "id": "6bd52eb6-ecd6-4991-8124-527baaf19796",
   "metadata": {},
   "outputs": [],
   "source": [
    "sheared_img = cv.warpAffine(re_img, shear_mat, (cols + int(shear_factor*rows), rows))"
   ]
  },
  {
   "cell_type": "code",
   "execution_count": 116,
   "id": "f319a1c6-77bf-4b25-ad86-5259fe8bc21d",
   "metadata": {},
   "outputs": [],
   "source": [
    "cv.imwrite(r\"C:\\Users\\Soft\\Desktop\\Py\\AI 1195\\Augmented Images\\sheared_img.jpg\", sheared_img)\n",
    "cv.imshow(\"Skewed Image\", sheared_img)\n",
    "cv.waitKey(0)\n",
    "cv.destroyAllWindows()"
   ]
  },
  {
   "cell_type": "code",
   "execution_count": null,
   "id": "faa74e02-1858-4e90-b9aa-ad2bb958ab8c",
   "metadata": {},
   "outputs": [],
   "source": []
  }
 ],
 "metadata": {
  "kernelspec": {
   "display_name": "Python 3 (ipykernel)",
   "language": "python",
   "name": "python3"
  },
  "language_info": {
   "codemirror_mode": {
    "name": "ipython",
    "version": 3
   },
   "file_extension": ".py",
   "mimetype": "text/x-python",
   "name": "python",
   "nbconvert_exporter": "python",
   "pygments_lexer": "ipython3",
   "version": "3.11.7"
  },
  "widgets": {
   "application/vnd.jupyter.widget-state+json": {
    "state": {},
    "version_major": 2,
    "version_minor": 0
   }
  }
 },
 "nbformat": 4,
 "nbformat_minor": 5
}
