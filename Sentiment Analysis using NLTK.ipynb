{
 "cells": [
  {
   "cell_type": "code",
   "execution_count": 1,
   "id": "31714799-cee4-4872-8933-04e32896e27f",
   "metadata": {},
   "outputs": [],
   "source": [
    "import nltk\n",
    "from nltk.tokenize import word_tokenize, sent_tokenize\n",
    "from nltk.corpus import stopwords\n",
    "\n",
    "import numpy as np"
   ]
  },
  {
   "cell_type": "code",
   "execution_count": 2,
   "id": "e6f6d475-af4f-45f8-ace2-3adcc394504f",
   "metadata": {},
   "outputs": [],
   "source": [
    "text = \"Indian people or Indians are the citizens and nationals of the Republic of India. In 2022, the population of India stood at 1.4 billion people, of various ethnic groups. According to United Nations forecasts, India overtook China as the world's most populous country by the end of April 2023, containing 17.50 percent of the global population. In addition to the Indian population, the Indian overseas diaspora also boasts large numbers, particularly in the Arab states of the Persian Gulf, former British colonies, and the Western world.\""
   ]
  },
  {
   "cell_type": "code",
   "execution_count": 3,
   "id": "eeaf702b-5a0b-4580-840b-fe616322e29e",
   "metadata": {},
   "outputs": [
    {
     "data": {
      "text/plain": [
       "\"Indian people or Indians are the citizens and nationals of the Republic of India. In 2022, the population of India stood at 1.4 billion people, of various ethnic groups. According to United Nations forecasts, India overtook China as the world's most populous country by the end of April 2023, containing 17.50 percent of the global population. In addition to the Indian population, the Indian overseas diaspora also boasts large numbers, particularly in the Arab states of the Persian Gulf, former British colonies, and the Western world.\""
      ]
     },
     "execution_count": 3,
     "metadata": {},
     "output_type": "execute_result"
    }
   ],
   "source": [
    "text"
   ]
  },
  {
   "cell_type": "code",
   "execution_count": 4,
   "id": "7afd36e0-5602-47e4-83b4-4809989db53b",
   "metadata": {},
   "outputs": [],
   "source": [
    "words = word_tokenize(text)"
   ]
  },
  {
   "cell_type": "code",
   "execution_count": 5,
   "id": "0111bb7a-5df5-4fb2-a86e-b8c1e2b40be0",
   "metadata": {},
   "outputs": [
    {
     "data": {
      "text/plain": [
       "['Indian',\n",
       " 'people',\n",
       " 'or',\n",
       " 'Indians',\n",
       " 'are',\n",
       " 'the',\n",
       " 'citizens',\n",
       " 'and',\n",
       " 'nationals',\n",
       " 'of',\n",
       " 'the',\n",
       " 'Republic',\n",
       " 'of',\n",
       " 'India',\n",
       " '.',\n",
       " 'In',\n",
       " '2022',\n",
       " ',',\n",
       " 'the',\n",
       " 'population',\n",
       " 'of',\n",
       " 'India',\n",
       " 'stood',\n",
       " 'at',\n",
       " '1.4',\n",
       " 'billion',\n",
       " 'people',\n",
       " ',',\n",
       " 'of',\n",
       " 'various',\n",
       " 'ethnic',\n",
       " 'groups',\n",
       " '.',\n",
       " 'According',\n",
       " 'to',\n",
       " 'United',\n",
       " 'Nations',\n",
       " 'forecasts',\n",
       " ',',\n",
       " 'India',\n",
       " 'overtook',\n",
       " 'China',\n",
       " 'as',\n",
       " 'the',\n",
       " 'world',\n",
       " \"'s\",\n",
       " 'most',\n",
       " 'populous',\n",
       " 'country',\n",
       " 'by',\n",
       " 'the',\n",
       " 'end',\n",
       " 'of',\n",
       " 'April',\n",
       " '2023',\n",
       " ',',\n",
       " 'containing',\n",
       " '17.50',\n",
       " 'percent',\n",
       " 'of',\n",
       " 'the',\n",
       " 'global',\n",
       " 'population',\n",
       " '.',\n",
       " 'In',\n",
       " 'addition',\n",
       " 'to',\n",
       " 'the',\n",
       " 'Indian',\n",
       " 'population',\n",
       " ',',\n",
       " 'the',\n",
       " 'Indian',\n",
       " 'overseas',\n",
       " 'diaspora',\n",
       " 'also',\n",
       " 'boasts',\n",
       " 'large',\n",
       " 'numbers',\n",
       " ',',\n",
       " 'particularly',\n",
       " 'in',\n",
       " 'the',\n",
       " 'Arab',\n",
       " 'states',\n",
       " 'of',\n",
       " 'the',\n",
       " 'Persian',\n",
       " 'Gulf',\n",
       " ',',\n",
       " 'former',\n",
       " 'British',\n",
       " 'colonies',\n",
       " ',',\n",
       " 'and',\n",
       " 'the',\n",
       " 'Western',\n",
       " 'world',\n",
       " '.']"
      ]
     },
     "execution_count": 5,
     "metadata": {},
     "output_type": "execute_result"
    }
   ],
   "source": [
    "words"
   ]
  },
  {
   "cell_type": "code",
   "execution_count": 7,
   "id": "a9e7db1f-c7eb-4d20-aacc-e80b1409f2a8",
   "metadata": {},
   "outputs": [],
   "source": [
    "sentences = sent_tokenize(text)"
   ]
  },
  {
   "cell_type": "code",
   "execution_count": 9,
   "id": "fcc9b32c-7cf7-4719-9ddd-b9a6d2d372c5",
   "metadata": {
    "scrolled": true
   },
   "outputs": [
    {
     "name": "stdout",
     "output_type": "stream",
     "text": [
      "Sentence 1 -> Indian people or Indians are the citizens and nationals of the Republic of India.\n",
      "Sentence 2 -> In 2022, the population of India stood at 1.4 billion people, of various ethnic groups.\n",
      "Sentence 3 -> According to United Nations forecasts, India overtook China as the world's most populous country by the end of April 2023, containing 17.50 percent of the global population.\n",
      "Sentence 4 -> In addition to the Indian population, the Indian overseas diaspora also boasts large numbers, particularly in the Arab states of the Persian Gulf, former British colonies, and the Western world.\n"
     ]
    }
   ],
   "source": [
    "for i, j in enumerate(sentences):\n",
    "    print(f\"Sentence {i+1} -> {j}\")"
   ]
  },
  {
   "cell_type": "code",
   "execution_count": 10,
   "id": "b448d010-e478-4208-9eb8-50e13797ba8f",
   "metadata": {},
   "outputs": [],
   "source": [
    "from nltk.probability import FreqDist"
   ]
  },
  {
   "cell_type": "code",
   "execution_count": 11,
   "id": "eca1506a-45d9-4057-8148-bc1046e6c7a7",
   "metadata": {},
   "outputs": [],
   "source": [
    "freq = FreqDist(words)"
   ]
  },
  {
   "cell_type": "code",
   "execution_count": 14,
   "id": "85f43061-51cc-44b2-8d54-2e28add6d3dd",
   "metadata": {
    "scrolled": true
   },
   "outputs": [
    {
     "name": "stdout",
     "output_type": "stream",
     "text": [
      "Indian : 3\n",
      "people : 2\n",
      "or : 1\n",
      "Indians : 1\n",
      "are : 1\n",
      "the : 11\n",
      "citizens : 1\n",
      "and : 2\n",
      "nationals : 1\n",
      "of : 7\n",
      "Republic : 1\n",
      "India : 3\n",
      ". : 4\n",
      "In : 2\n",
      "2022 : 1\n",
      ", : 8\n",
      "population : 3\n",
      "stood : 1\n",
      "at : 1\n",
      "1.4 : 1\n",
      "billion : 1\n",
      "various : 1\n",
      "ethnic : 1\n",
      "groups : 1\n",
      "According : 1\n",
      "to : 2\n",
      "United : 1\n",
      "Nations : 1\n",
      "forecasts : 1\n",
      "overtook : 1\n",
      "China : 1\n",
      "as : 1\n",
      "world : 2\n",
      "'s : 1\n",
      "most : 1\n",
      "populous : 1\n",
      "country : 1\n",
      "by : 1\n",
      "end : 1\n",
      "April : 1\n",
      "2023 : 1\n",
      "containing : 1\n",
      "17.50 : 1\n",
      "percent : 1\n",
      "global : 1\n",
      "addition : 1\n",
      "overseas : 1\n",
      "diaspora : 1\n",
      "also : 1\n",
      "boasts : 1\n",
      "large : 1\n",
      "numbers : 1\n",
      "particularly : 1\n",
      "in : 1\n",
      "Arab : 1\n",
      "states : 1\n",
      "Persian : 1\n",
      "Gulf : 1\n",
      "former : 1\n",
      "British : 1\n",
      "colonies : 1\n",
      "Western : 1\n"
     ]
    }
   ],
   "source": [
    "for i, j in freq.items():\n",
    "    print(i+\" : \"+str(j))"
   ]
  },
  {
   "cell_type": "code",
   "execution_count": 15,
   "id": "e8f0214a-a585-4e74-a114-ae7360315bbd",
   "metadata": {
    "scrolled": true
   },
   "outputs": [
    {
     "data": {
      "text/plain": [
       "[('the', 11),\n",
       " (',', 8),\n",
       " ('of', 7),\n",
       " ('.', 4),\n",
       " ('Indian', 3),\n",
       " ('India', 3),\n",
       " ('population', 3),\n",
       " ('people', 2),\n",
       " ('and', 2),\n",
       " ('In', 2),\n",
       " ('to', 2),\n",
       " ('world', 2),\n",
       " ('or', 1),\n",
       " ('Indians', 1),\n",
       " ('are', 1),\n",
       " ('citizens', 1),\n",
       " ('nationals', 1),\n",
       " ('Republic', 1),\n",
       " ('2022', 1),\n",
       " ('stood', 1),\n",
       " ('at', 1),\n",
       " ('1.4', 1),\n",
       " ('billion', 1),\n",
       " ('various', 1),\n",
       " ('ethnic', 1),\n",
       " ('groups', 1),\n",
       " ('According', 1),\n",
       " ('United', 1),\n",
       " ('Nations', 1),\n",
       " ('forecasts', 1),\n",
       " ('overtook', 1),\n",
       " ('China', 1),\n",
       " ('as', 1),\n",
       " (\"'s\", 1),\n",
       " ('most', 1),\n",
       " ('populous', 1),\n",
       " ('country', 1),\n",
       " ('by', 1),\n",
       " ('end', 1),\n",
       " ('April', 1),\n",
       " ('2023', 1),\n",
       " ('containing', 1),\n",
       " ('17.50', 1),\n",
       " ('percent', 1),\n",
       " ('global', 1),\n",
       " ('addition', 1),\n",
       " ('overseas', 1),\n",
       " ('diaspora', 1),\n",
       " ('also', 1),\n",
       " ('boasts', 1),\n",
       " ('large', 1),\n",
       " ('numbers', 1),\n",
       " ('particularly', 1),\n",
       " ('in', 1),\n",
       " ('Arab', 1),\n",
       " ('states', 1),\n",
       " ('Persian', 1),\n",
       " ('Gulf', 1),\n",
       " ('former', 1),\n",
       " ('British', 1),\n",
       " ('colonies', 1),\n",
       " ('Western', 1)]"
      ]
     },
     "execution_count": 15,
     "metadata": {},
     "output_type": "execute_result"
    }
   ],
   "source": [
    "freq.most_common()"
   ]
  },
  {
   "cell_type": "code",
   "execution_count": 18,
   "id": "bf26b3f5-fc9d-44a1-a0c6-d0e546396bb8",
   "metadata": {},
   "outputs": [],
   "source": [
    "stop_words = set(stopwords.words(\"english\"))"
   ]
  },
  {
   "cell_type": "code",
   "execution_count": 19,
   "id": "eb9c1af7-6c1a-4980-b8ef-bc46e42af195",
   "metadata": {
    "scrolled": true
   },
   "outputs": [
    {
     "data": {
      "text/plain": [
       "{'a',\n",
       " 'about',\n",
       " 'above',\n",
       " 'after',\n",
       " 'again',\n",
       " 'against',\n",
       " 'ain',\n",
       " 'all',\n",
       " 'am',\n",
       " 'an',\n",
       " 'and',\n",
       " 'any',\n",
       " 'are',\n",
       " 'aren',\n",
       " \"aren't\",\n",
       " 'as',\n",
       " 'at',\n",
       " 'be',\n",
       " 'because',\n",
       " 'been',\n",
       " 'before',\n",
       " 'being',\n",
       " 'below',\n",
       " 'between',\n",
       " 'both',\n",
       " 'but',\n",
       " 'by',\n",
       " 'can',\n",
       " 'couldn',\n",
       " \"couldn't\",\n",
       " 'd',\n",
       " 'did',\n",
       " 'didn',\n",
       " \"didn't\",\n",
       " 'do',\n",
       " 'does',\n",
       " 'doesn',\n",
       " \"doesn't\",\n",
       " 'doing',\n",
       " 'don',\n",
       " \"don't\",\n",
       " 'down',\n",
       " 'during',\n",
       " 'each',\n",
       " 'few',\n",
       " 'for',\n",
       " 'from',\n",
       " 'further',\n",
       " 'had',\n",
       " 'hadn',\n",
       " \"hadn't\",\n",
       " 'has',\n",
       " 'hasn',\n",
       " \"hasn't\",\n",
       " 'have',\n",
       " 'haven',\n",
       " \"haven't\",\n",
       " 'having',\n",
       " 'he',\n",
       " 'her',\n",
       " 'here',\n",
       " 'hers',\n",
       " 'herself',\n",
       " 'him',\n",
       " 'himself',\n",
       " 'his',\n",
       " 'how',\n",
       " 'i',\n",
       " 'if',\n",
       " 'in',\n",
       " 'into',\n",
       " 'is',\n",
       " 'isn',\n",
       " \"isn't\",\n",
       " 'it',\n",
       " \"it's\",\n",
       " 'its',\n",
       " 'itself',\n",
       " 'just',\n",
       " 'll',\n",
       " 'm',\n",
       " 'ma',\n",
       " 'me',\n",
       " 'mightn',\n",
       " \"mightn't\",\n",
       " 'more',\n",
       " 'most',\n",
       " 'mustn',\n",
       " \"mustn't\",\n",
       " 'my',\n",
       " 'myself',\n",
       " 'needn',\n",
       " \"needn't\",\n",
       " 'no',\n",
       " 'nor',\n",
       " 'not',\n",
       " 'now',\n",
       " 'o',\n",
       " 'of',\n",
       " 'off',\n",
       " 'on',\n",
       " 'once',\n",
       " 'only',\n",
       " 'or',\n",
       " 'other',\n",
       " 'our',\n",
       " 'ours',\n",
       " 'ourselves',\n",
       " 'out',\n",
       " 'over',\n",
       " 'own',\n",
       " 're',\n",
       " 's',\n",
       " 'same',\n",
       " 'shan',\n",
       " \"shan't\",\n",
       " 'she',\n",
       " \"she's\",\n",
       " 'should',\n",
       " \"should've\",\n",
       " 'shouldn',\n",
       " \"shouldn't\",\n",
       " 'so',\n",
       " 'some',\n",
       " 'such',\n",
       " 't',\n",
       " 'than',\n",
       " 'that',\n",
       " \"that'll\",\n",
       " 'the',\n",
       " 'their',\n",
       " 'theirs',\n",
       " 'them',\n",
       " 'themselves',\n",
       " 'then',\n",
       " 'there',\n",
       " 'these',\n",
       " 'they',\n",
       " 'this',\n",
       " 'those',\n",
       " 'through',\n",
       " 'to',\n",
       " 'too',\n",
       " 'under',\n",
       " 'until',\n",
       " 'up',\n",
       " 've',\n",
       " 'very',\n",
       " 'was',\n",
       " 'wasn',\n",
       " \"wasn't\",\n",
       " 'we',\n",
       " 'were',\n",
       " 'weren',\n",
       " \"weren't\",\n",
       " 'what',\n",
       " 'when',\n",
       " 'where',\n",
       " 'which',\n",
       " 'while',\n",
       " 'who',\n",
       " 'whom',\n",
       " 'why',\n",
       " 'will',\n",
       " 'with',\n",
       " 'won',\n",
       " \"won't\",\n",
       " 'wouldn',\n",
       " \"wouldn't\",\n",
       " 'y',\n",
       " 'you',\n",
       " \"you'd\",\n",
       " \"you'll\",\n",
       " \"you're\",\n",
       " \"you've\",\n",
       " 'your',\n",
       " 'yours',\n",
       " 'yourself',\n",
       " 'yourselves'}"
      ]
     },
     "execution_count": 19,
     "metadata": {},
     "output_type": "execute_result"
    }
   ],
   "source": [
    "stop_words"
   ]
  },
  {
   "cell_type": "code",
   "execution_count": 25,
   "id": "207065ef-557d-4b2a-93e6-439ca1f7ef75",
   "metadata": {},
   "outputs": [],
   "source": [
    "words_without_stopwords = [i for i in words if i.lower() not in stop_words]"
   ]
  },
  {
   "cell_type": "code",
   "execution_count": 26,
   "id": "4678bed4-7150-496a-8ba6-d87e4c08c4a5",
   "metadata": {
    "scrolled": true
   },
   "outputs": [
    {
     "data": {
      "text/plain": [
       "['Indian',\n",
       " 'people',\n",
       " 'Indians',\n",
       " 'citizens',\n",
       " 'nationals',\n",
       " 'Republic',\n",
       " 'India',\n",
       " '.',\n",
       " '2022',\n",
       " ',',\n",
       " 'population',\n",
       " 'India',\n",
       " 'stood',\n",
       " '1.4',\n",
       " 'billion',\n",
       " 'people',\n",
       " ',',\n",
       " 'various',\n",
       " 'ethnic',\n",
       " 'groups',\n",
       " '.',\n",
       " 'According',\n",
       " 'United',\n",
       " 'Nations',\n",
       " 'forecasts',\n",
       " ',',\n",
       " 'India',\n",
       " 'overtook',\n",
       " 'China',\n",
       " 'world',\n",
       " \"'s\",\n",
       " 'populous',\n",
       " 'country',\n",
       " 'end',\n",
       " 'April',\n",
       " '2023',\n",
       " ',',\n",
       " 'containing',\n",
       " '17.50',\n",
       " 'percent',\n",
       " 'global',\n",
       " 'population',\n",
       " '.',\n",
       " 'addition',\n",
       " 'Indian',\n",
       " 'population',\n",
       " ',',\n",
       " 'Indian',\n",
       " 'overseas',\n",
       " 'diaspora',\n",
       " 'also',\n",
       " 'boasts',\n",
       " 'large',\n",
       " 'numbers',\n",
       " ',',\n",
       " 'particularly',\n",
       " 'Arab',\n",
       " 'states',\n",
       " 'Persian',\n",
       " 'Gulf',\n",
       " ',',\n",
       " 'former',\n",
       " 'British',\n",
       " 'colonies',\n",
       " ',',\n",
       " 'Western',\n",
       " 'world',\n",
       " '.']"
      ]
     },
     "execution_count": 26,
     "metadata": {},
     "output_type": "execute_result"
    }
   ],
   "source": [
    "words_without_stopwords"
   ]
  },
  {
   "cell_type": "code",
   "execution_count": 27,
   "id": "596346f6-9d33-481a-8597-e7bb0615ab56",
   "metadata": {},
   "outputs": [
    {
     "data": {
      "text/plain": [
       "99"
      ]
     },
     "execution_count": 27,
     "metadata": {},
     "output_type": "execute_result"
    }
   ],
   "source": [
    "len(words)"
   ]
  },
  {
   "cell_type": "code",
   "execution_count": 28,
   "id": "de30203a-0104-4e17-a2b7-fec0bc86ed3e",
   "metadata": {},
   "outputs": [
    {
     "data": {
      "text/plain": [
       "68"
      ]
     },
     "execution_count": 28,
     "metadata": {},
     "output_type": "execute_result"
    }
   ],
   "source": [
    "len(words_without_stopwords)"
   ]
  },
  {
   "cell_type": "code",
   "execution_count": 32,
   "id": "6584815b-46d5-476e-a236-2e840dd35029",
   "metadata": {},
   "outputs": [],
   "source": [
    "words_without_punckt = [i for i in words_without_stopwords if i.lower() not in \".,/?|\"]"
   ]
  },
  {
   "cell_type": "code",
   "execution_count": 33,
   "id": "0f2ca63d-20be-464c-9ae4-257367b13c44",
   "metadata": {},
   "outputs": [
    {
     "data": {
      "text/plain": [
       "['Indian',\n",
       " 'people',\n",
       " 'Indians',\n",
       " 'citizens',\n",
       " 'nationals',\n",
       " 'Republic',\n",
       " 'India',\n",
       " '2022',\n",
       " 'population',\n",
       " 'India',\n",
       " 'stood',\n",
       " '1.4',\n",
       " 'billion',\n",
       " 'people',\n",
       " 'various',\n",
       " 'ethnic',\n",
       " 'groups',\n",
       " 'According',\n",
       " 'United',\n",
       " 'Nations',\n",
       " 'forecasts',\n",
       " 'India',\n",
       " 'overtook',\n",
       " 'China',\n",
       " 'world',\n",
       " \"'s\",\n",
       " 'populous',\n",
       " 'country',\n",
       " 'end',\n",
       " 'April',\n",
       " '2023',\n",
       " 'containing',\n",
       " '17.50',\n",
       " 'percent',\n",
       " 'global',\n",
       " 'population',\n",
       " 'addition',\n",
       " 'Indian',\n",
       " 'population',\n",
       " 'Indian',\n",
       " 'overseas',\n",
       " 'diaspora',\n",
       " 'also',\n",
       " 'boasts',\n",
       " 'large',\n",
       " 'numbers',\n",
       " 'particularly',\n",
       " 'Arab',\n",
       " 'states',\n",
       " 'Persian',\n",
       " 'Gulf',\n",
       " 'former',\n",
       " 'British',\n",
       " 'colonies',\n",
       " 'Western',\n",
       " 'world']"
      ]
     },
     "execution_count": 33,
     "metadata": {},
     "output_type": "execute_result"
    }
   ],
   "source": [
    "words_without_punckt"
   ]
  },
  {
   "cell_type": "code",
   "execution_count": 34,
   "id": "b5e97862-4ed8-4621-8589-43a32502f1c5",
   "metadata": {},
   "outputs": [
    {
     "data": {
      "text/plain": [
       "56"
      ]
     },
     "execution_count": 34,
     "metadata": {},
     "output_type": "execute_result"
    }
   ],
   "source": [
    "len(words_without_punckt)"
   ]
  },
  {
   "cell_type": "code",
   "execution_count": 35,
   "id": "fb2b12b4-c2f3-47ad-afd3-35fd88406ab4",
   "metadata": {
    "scrolled": true
   },
   "outputs": [
    {
     "data": {
      "text/plain": [
       "['Indian',\n",
       " 'people',\n",
       " 'Indians',\n",
       " 'citizens',\n",
       " 'nationals',\n",
       " 'Republic',\n",
       " 'India',\n",
       " '2022',\n",
       " 'population',\n",
       " 'India',\n",
       " 'stood',\n",
       " '1.4',\n",
       " 'billion',\n",
       " 'people',\n",
       " 'various',\n",
       " 'ethnic',\n",
       " 'groups',\n",
       " 'According',\n",
       " 'United',\n",
       " 'Nations',\n",
       " 'forecasts',\n",
       " 'India',\n",
       " 'overtook',\n",
       " 'China',\n",
       " 'world',\n",
       " \"'s\",\n",
       " 'populous',\n",
       " 'country',\n",
       " 'end',\n",
       " 'April',\n",
       " '2023',\n",
       " 'containing',\n",
       " '17.50',\n",
       " 'percent',\n",
       " 'global',\n",
       " 'population',\n",
       " 'addition',\n",
       " 'Indian',\n",
       " 'population',\n",
       " 'Indian',\n",
       " 'overseas',\n",
       " 'diaspora',\n",
       " 'also',\n",
       " 'boasts',\n",
       " 'large',\n",
       " 'numbers',\n",
       " 'particularly',\n",
       " 'Arab',\n",
       " 'states',\n",
       " 'Persian',\n",
       " 'Gulf',\n",
       " 'former',\n",
       " 'British',\n",
       " 'colonies',\n",
       " 'Western',\n",
       " 'world']"
      ]
     },
     "execution_count": 35,
     "metadata": {},
     "output_type": "execute_result"
    }
   ],
   "source": [
    "words_without_punckt"
   ]
  },
  {
   "cell_type": "code",
   "execution_count": 38,
   "id": "96b098c6-ee92-4c12-9f26-2e63d5b0b085",
   "metadata": {},
   "outputs": [],
   "source": [
    "final_words = [i for i in words_without_punckt if i.lower().isalpha()]"
   ]
  },
  {
   "cell_type": "code",
   "execution_count": 39,
   "id": "63aea9c7-70b0-4f77-98a9-190affebfe76",
   "metadata": {
    "scrolled": true
   },
   "outputs": [
    {
     "data": {
      "text/plain": [
       "['Indian',\n",
       " 'people',\n",
       " 'Indians',\n",
       " 'citizens',\n",
       " 'nationals',\n",
       " 'Republic',\n",
       " 'India',\n",
       " 'population',\n",
       " 'India',\n",
       " 'stood',\n",
       " 'billion',\n",
       " 'people',\n",
       " 'various',\n",
       " 'ethnic',\n",
       " 'groups',\n",
       " 'According',\n",
       " 'United',\n",
       " 'Nations',\n",
       " 'forecasts',\n",
       " 'India',\n",
       " 'overtook',\n",
       " 'China',\n",
       " 'world',\n",
       " 'populous',\n",
       " 'country',\n",
       " 'end',\n",
       " 'April',\n",
       " 'containing',\n",
       " 'percent',\n",
       " 'global',\n",
       " 'population',\n",
       " 'addition',\n",
       " 'Indian',\n",
       " 'population',\n",
       " 'Indian',\n",
       " 'overseas',\n",
       " 'diaspora',\n",
       " 'also',\n",
       " 'boasts',\n",
       " 'large',\n",
       " 'numbers',\n",
       " 'particularly',\n",
       " 'Arab',\n",
       " 'states',\n",
       " 'Persian',\n",
       " 'Gulf',\n",
       " 'former',\n",
       " 'British',\n",
       " 'colonies',\n",
       " 'Western',\n",
       " 'world']"
      ]
     },
     "execution_count": 39,
     "metadata": {},
     "output_type": "execute_result"
    }
   ],
   "source": [
    "final_words"
   ]
  },
  {
   "cell_type": "code",
   "execution_count": 40,
   "id": "02040d66-6145-477d-850a-ba473230ce50",
   "metadata": {},
   "outputs": [
    {
     "data": {
      "text/plain": [
       "51"
      ]
     },
     "execution_count": 40,
     "metadata": {},
     "output_type": "execute_result"
    }
   ],
   "source": [
    "len(final_words)"
   ]
  },
  {
   "cell_type": "code",
   "execution_count": 41,
   "id": "1cd26e53-7fea-4792-bd4c-33ce4deb74ac",
   "metadata": {},
   "outputs": [],
   "source": [
    "from nltk.stem import PorterStemmer, LancasterStemmer"
   ]
  },
  {
   "cell_type": "code",
   "execution_count": 42,
   "id": "9bf07d78-ec2f-45c3-840a-3b396d8db59b",
   "metadata": {},
   "outputs": [],
   "source": [
    "exp = [\"affected\", \"affects\", \"affecting\", \"affection\", \"affect\"]"
   ]
  },
  {
   "cell_type": "code",
   "execution_count": 43,
   "id": "f1036c2d-db77-4019-ab9a-42e1a608b1ad",
   "metadata": {},
   "outputs": [],
   "source": [
    "post = PorterStemmer()"
   ]
  },
  {
   "cell_type": "code",
   "execution_count": 45,
   "id": "c3003fac-0d4b-415a-a3b9-825825fdca3d",
   "metadata": {},
   "outputs": [],
   "source": [
    "exp_post = [post.stem(i) for i in exp]"
   ]
  },
  {
   "cell_type": "code",
   "execution_count": 46,
   "id": "6835b0d8-6a0a-4f06-972b-70eb237156d0",
   "metadata": {},
   "outputs": [
    {
     "data": {
      "text/plain": [
       "['affect', 'affect', 'affect', 'affect', 'affect']"
      ]
     },
     "execution_count": 46,
     "metadata": {},
     "output_type": "execute_result"
    }
   ],
   "source": [
    "exp_post"
   ]
  },
  {
   "cell_type": "code",
   "execution_count": 47,
   "id": "39b22531-b61f-4560-b3d0-c71204c89b77",
   "metadata": {},
   "outputs": [],
   "source": [
    "last = LancasterStemmer()"
   ]
  },
  {
   "cell_type": "code",
   "execution_count": 48,
   "id": "387e8799-6fa4-4d7d-ab8d-a13e18967120",
   "metadata": {},
   "outputs": [],
   "source": [
    "exp_last = [last.stem(i) for i in exp]"
   ]
  },
  {
   "cell_type": "code",
   "execution_count": 49,
   "id": "3c8c35c1-fcfc-4478-b092-13f363b26632",
   "metadata": {},
   "outputs": [
    {
     "data": {
      "text/plain": [
       "['affect', 'affect', 'affect', 'affect', 'affect']"
      ]
     },
     "execution_count": 49,
     "metadata": {},
     "output_type": "execute_result"
    }
   ],
   "source": [
    "exp_last"
   ]
  },
  {
   "cell_type": "code",
   "execution_count": 50,
   "id": "0ca358b3-3932-4156-8ede-e1f17ff3202d",
   "metadata": {},
   "outputs": [],
   "source": [
    "new = [\"enjoy\", \"enjoyable\", \"running\", \"cake\", \"positivity\", \"inspiration\", \"creativity\", \"motivational\"]"
   ]
  },
  {
   "cell_type": "code",
   "execution_count": 51,
   "id": "f6d8a58a-d963-4b36-99df-ffa24636befc",
   "metadata": {},
   "outputs": [
    {
     "data": {
      "text/plain": [
       "['enjoy', 'enjoy', 'run', 'cake', 'posit', 'inspir', 'creativ', 'motiv']"
      ]
     },
     "execution_count": 51,
     "metadata": {},
     "output_type": "execute_result"
    }
   ],
   "source": [
    "[post.stem(i) for i in new]"
   ]
  },
  {
   "cell_type": "code",
   "execution_count": 52,
   "id": "a22f6072-b326-4fd8-9b7c-2d502532ca67",
   "metadata": {},
   "outputs": [
    {
     "data": {
      "text/plain": [
       "['enjoy', 'enjoy', 'run', 'cak', 'posit', 'inspir', 'cre', 'mot']"
      ]
     },
     "execution_count": 52,
     "metadata": {},
     "output_type": "execute_result"
    }
   ],
   "source": [
    "[last.stem(i) for i in new]"
   ]
  },
  {
   "cell_type": "code",
   "execution_count": 55,
   "id": "5db26c50-07d5-4b8f-8a88-c082e19a3b42",
   "metadata": {},
   "outputs": [],
   "source": [
    "from nltk import wordnet"
   ]
  },
  {
   "cell_type": "code",
   "execution_count": 57,
   "id": "d5ab0a6a-d150-4e64-8070-a269f192e57b",
   "metadata": {},
   "outputs": [],
   "source": [
    "lemmas = wordnet.WordNetLemmatizer()"
   ]
  },
  {
   "cell_type": "code",
   "execution_count": 63,
   "id": "c274b5ff-30c7-482a-ba9a-43bd152cbf29",
   "metadata": {},
   "outputs": [],
   "source": [
    "lemm_words = [lemmas.lemmatize(i, \"n\") for i in new]"
   ]
  },
  {
   "cell_type": "code",
   "execution_count": 64,
   "id": "9443badf-5bea-4e23-94d7-52a72d7d62d1",
   "metadata": {
    "scrolled": true
   },
   "outputs": [
    {
     "data": {
      "text/plain": [
       "['enjoy',\n",
       " 'enjoyable',\n",
       " 'running',\n",
       " 'cake',\n",
       " 'positivity',\n",
       " 'inspiration',\n",
       " 'creativity',\n",
       " 'motivational']"
      ]
     },
     "execution_count": 64,
     "metadata": {},
     "output_type": "execute_result"
    }
   ],
   "source": [
    "lemm_words"
   ]
  },
  {
   "cell_type": "code",
   "execution_count": 65,
   "id": "642e6f2f-c610-4b07-b04e-8095bcea2ae2",
   "metadata": {
    "scrolled": true
   },
   "outputs": [
    {
     "data": {
      "text/plain": [
       "['enjoy',\n",
       " 'enjoyable',\n",
       " 'running',\n",
       " 'cake',\n",
       " 'positivity',\n",
       " 'inspiration',\n",
       " 'creativity',\n",
       " 'motivational']"
      ]
     },
     "execution_count": 65,
     "metadata": {},
     "output_type": "execute_result"
    }
   ],
   "source": [
    "[lemmas.lemmatize(i, \"n\") for i in new]"
   ]
  },
  {
   "cell_type": "code",
   "execution_count": 79,
   "id": "36e90c81-a860-446f-b8f3-91ee04aabbfa",
   "metadata": {
    "scrolled": true
   },
   "outputs": [
    {
     "name": "stdout",
     "output_type": "stream",
     "text": [
      "Original - affected | Noun - affected | Verb - affect | Adjective - affected | Satellite Adjective - affected\n",
      "Original - affects | Noun - affect | Verb - affect | Adjective - affects | Satellite Adjective - affects\n",
      "Original - affecting | Noun - affecting | Verb - affect | Adjective - affecting | Satellite Adjective - affecting\n",
      "Original - affection | Noun - affection | Verb - affection | Adjective - affection | Satellite Adjective - affection\n",
      "Original - affect | Noun - affect | Verb - affect | Adjective - affect | Satellite Adjective - affect\n"
     ]
    }
   ],
   "source": [
    "for i in exp:\n",
    "    print(\"Original -\",i,\"| Noun -\",lemmas.lemmatize(i, \"n\"), \"| Verb -\",lemmas.lemmatize(i, \"v\"), \"| Adjective -\",lemmas.lemmatize(i, \"a\"), \"| Satellite Adjective -\",lemmas.lemmatize(i, \"s\"))"
   ]
  },
  {
   "cell_type": "code",
   "execution_count": 80,
   "id": "3c3063ce-b28f-4c05-8956-0d2306db6d5d",
   "metadata": {
    "scrolled": true
   },
   "outputs": [
    {
     "name": "stdout",
     "output_type": "stream",
     "text": [
      "Original - enjoy | Noun - enjoy | Verb - enjoy | Adjective - enjoy | Satellite Adjective - enjoy\n",
      "Original - enjoyable | Noun - enjoyable | Verb - enjoyable | Adjective - enjoyable | Satellite Adjective - enjoyable\n",
      "Original - running | Noun - running | Verb - run | Adjective - running | Satellite Adjective - running\n",
      "Original - cake | Noun - cake | Verb - cake | Adjective - cake | Satellite Adjective - cake\n",
      "Original - positivity | Noun - positivity | Verb - positivity | Adjective - positivity | Satellite Adjective - positivity\n",
      "Original - inspiration | Noun - inspiration | Verb - inspiration | Adjective - inspiration | Satellite Adjective - inspiration\n",
      "Original - creativity | Noun - creativity | Verb - creativity | Adjective - creativity | Satellite Adjective - creativity\n",
      "Original - motivational | Noun - motivational | Verb - motivational | Adjective - motivational | Satellite Adjective - motivational\n"
     ]
    }
   ],
   "source": [
    "for i in new:\n",
    "    print(\"Original -\",i,\"| Noun -\",lemmas.lemmatize(i, \"n\"), \"| Verb -\",lemmas.lemmatize(i, \"v\"), \"| Adjective -\",lemmas.lemmatize(i, \"a\"), \"| Satellite Adjective -\",lemmas.lemmatize(i, \"s\"))"
   ]
  },
  {
   "cell_type": "code",
   "execution_count": 81,
   "id": "36ec61be-5474-400d-b585-48decb27823e",
   "metadata": {},
   "outputs": [],
   "source": [
    "from nltk import pos_tag"
   ]
  },
  {
   "cell_type": "code",
   "execution_count": 83,
   "id": "b9574404-d400-45ff-b5c9-3b14daaffbd3",
   "metadata": {},
   "outputs": [
    {
     "data": {
      "text/plain": [
       "'Indian people or Indians are the citizens and nationals of the Republic of India.'"
      ]
     },
     "execution_count": 83,
     "metadata": {},
     "output_type": "execute_result"
    }
   ],
   "source": [
    "sentences[0]"
   ]
  },
  {
   "cell_type": "code",
   "execution_count": 84,
   "id": "e1ef554f-e9f3-41f1-aa5f-6d159c0466fc",
   "metadata": {},
   "outputs": [],
   "source": [
    "tags = pos_tag(word_tokenize(sentences[0]))"
   ]
  },
  {
   "cell_type": "code",
   "execution_count": 85,
   "id": "58d22e3e-5437-4ff5-b0a3-93f917ad9c76",
   "metadata": {},
   "outputs": [
    {
     "data": {
      "text/plain": [
       "[('Indian', 'JJ'),\n",
       " ('people', 'NNS'),\n",
       " ('or', 'CC'),\n",
       " ('Indians', 'NNPS'),\n",
       " ('are', 'VBP'),\n",
       " ('the', 'DT'),\n",
       " ('citizens', 'NNS'),\n",
       " ('and', 'CC'),\n",
       " ('nationals', 'NNS'),\n",
       " ('of', 'IN'),\n",
       " ('the', 'DT'),\n",
       " ('Republic', 'NNP'),\n",
       " ('of', 'IN'),\n",
       " ('India', 'NNP'),\n",
       " ('.', '.')]"
      ]
     },
     "execution_count": 85,
     "metadata": {},
     "output_type": "execute_result"
    }
   ],
   "source": [
    "tags"
   ]
  },
  {
   "cell_type": "code",
   "execution_count": null,
   "id": "440c3d0f-e4c5-4669-af87-8cd01090e727",
   "metadata": {},
   "outputs": [],
   "source": []
  }
 ],
 "metadata": {
  "kernelspec": {
   "display_name": "Python 3 (ipykernel)",
   "language": "python",
   "name": "python3"
  },
  "language_info": {
   "codemirror_mode": {
    "name": "ipython",
    "version": 3
   },
   "file_extension": ".py",
   "mimetype": "text/x-python",
   "name": "python",
   "nbconvert_exporter": "python",
   "pygments_lexer": "ipython3",
   "version": "3.11.7"
  },
  "widgets": {
   "application/vnd.jupyter.widget-state+json": {
    "state": {},
    "version_major": 2,
    "version_minor": 0
   }
  }
 },
 "nbformat": 4,
 "nbformat_minor": 5
}
